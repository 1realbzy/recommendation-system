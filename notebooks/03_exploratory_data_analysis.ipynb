{
 "cells": [
  {
   "cell_type": "code",
   "execution_count": 2,
   "metadata": {},
   "outputs": [
    {
     "name": "stdout",
     "output_type": "stream",
     "text": [
      "Requirement already satisfied: seaborn in c:\\users\\hbempong\\onedrive - imperial general assurance\\desktop\\recommendation system\\venv\\lib\\site-packages (0.13.2)\n",
      "Requirement already satisfied: matplotlib in c:\\users\\hbempong\\onedrive - imperial general assurance\\desktop\\recommendation system\\venv\\lib\\site-packages (3.10.0)\n",
      "Requirement already satisfied: pandas in c:\\users\\hbempong\\onedrive - imperial general assurance\\desktop\\recommendation system\\venv\\lib\\site-packages (2.2.3)\n",
      "Requirement already satisfied: numpy in c:\\users\\hbempong\\onedrive - imperial general assurance\\desktop\\recommendation system\\venv\\lib\\site-packages (2.2.3)\n",
      "Requirement already satisfied: contourpy>=1.0.1 in c:\\users\\hbempong\\onedrive - imperial general assurance\\desktop\\recommendation system\\venv\\lib\\site-packages (from matplotlib) (1.3.1)\n",
      "Requirement already satisfied: cycler>=0.10 in c:\\users\\hbempong\\onedrive - imperial general assurance\\desktop\\recommendation system\\venv\\lib\\site-packages (from matplotlib) (0.12.1)\n",
      "Requirement already satisfied: fonttools>=4.22.0 in c:\\users\\hbempong\\onedrive - imperial general assurance\\desktop\\recommendation system\\venv\\lib\\site-packages (from matplotlib) (4.56.0)\n",
      "Requirement already satisfied: kiwisolver>=1.3.1 in c:\\users\\hbempong\\onedrive - imperial general assurance\\desktop\\recommendation system\\venv\\lib\\site-packages (from matplotlib) (1.4.8)\n",
      "Requirement already satisfied: packaging>=20.0 in c:\\users\\hbempong\\onedrive - imperial general assurance\\desktop\\recommendation system\\venv\\lib\\site-packages (from matplotlib) (24.2)\n",
      "Requirement already satisfied: pillow>=8 in c:\\users\\hbempong\\onedrive - imperial general assurance\\desktop\\recommendation system\\venv\\lib\\site-packages (from matplotlib) (11.1.0)\n",
      "Requirement already satisfied: pyparsing>=2.3.1 in c:\\users\\hbempong\\onedrive - imperial general assurance\\desktop\\recommendation system\\venv\\lib\\site-packages (from matplotlib) (3.2.1)\n",
      "Requirement already satisfied: python-dateutil>=2.7 in c:\\users\\hbempong\\onedrive - imperial general assurance\\desktop\\recommendation system\\venv\\lib\\site-packages (from matplotlib) (2.9.0.post0)\n",
      "Requirement already satisfied: pytz>=2020.1 in c:\\users\\hbempong\\onedrive - imperial general assurance\\desktop\\recommendation system\\venv\\lib\\site-packages (from pandas) (2025.1)\n",
      "Requirement already satisfied: tzdata>=2022.7 in c:\\users\\hbempong\\onedrive - imperial general assurance\\desktop\\recommendation system\\venv\\lib\\site-packages (from pandas) (2025.1)\n",
      "Requirement already satisfied: six>=1.5 in c:\\users\\hbempong\\onedrive - imperial general assurance\\desktop\\recommendation system\\venv\\lib\\site-packages (from python-dateutil>=2.7->matplotlib) (1.17.0)\n",
      "Libraries imported successfully!\n"
     ]
    }
   ],
   "source": [
    "# First, let's install/upgrade required packages\n",
    "!pip install --upgrade seaborn matplotlib pandas numpy\n",
    "\n",
    "# Now import the libraries\n",
    "import pandas as pd\n",
    "import numpy as np\n",
    "import matplotlib.pyplot as plt\n",
    "import seaborn as sns\n",
    "from datetime import datetime\n",
    "\n",
    "# Set display options\n",
    "pd.set_option('display.max_columns', None)\n",
    "pd.set_option('display.max_rows', 100)\n",
    "\n",
    "# Set plotting style - using a different style that's definitely available\n",
    "plt.style.use('default')  # This is safer than 'seaborn' style\n",
    "%matplotlib inline\n",
    "\n",
    "# Configure seaborn style directly\n",
    "sns.set_theme()  # This is the better way to set seaborn styling\n",
    "\n",
    "print('Libraries imported successfully!')"
   ]
  },
  {
   "cell_type": "code",
   "execution_count": 5,
   "metadata": {},
   "outputs": [
    {
     "name": "stdout",
     "output_type": "stream",
     "text": [
      "Dataset Overview:\n",
      "--------------------------------------------------\n",
      "Number of rows: 2,756,101\n",
      "Number of columns: 5\n",
      "\n",
      "Columns in the dataset:\n",
      "['timestamp', 'visitorid', 'event', 'itemid', 'transactionid']\n",
      "\n",
      "First few rows of the data:\n"
     ]
    },
    {
     "data": {
      "text/html": [
       "<div>\n",
       "<style scoped>\n",
       "    .dataframe tbody tr th:only-of-type {\n",
       "        vertical-align: middle;\n",
       "    }\n",
       "\n",
       "    .dataframe tbody tr th {\n",
       "        vertical-align: top;\n",
       "    }\n",
       "\n",
       "    .dataframe thead th {\n",
       "        text-align: right;\n",
       "    }\n",
       "</style>\n",
       "<table border=\"1\" class=\"dataframe\">\n",
       "  <thead>\n",
       "    <tr style=\"text-align: right;\">\n",
       "      <th></th>\n",
       "      <th>timestamp</th>\n",
       "      <th>visitorid</th>\n",
       "      <th>event</th>\n",
       "      <th>itemid</th>\n",
       "      <th>transactionid</th>\n",
       "    </tr>\n",
       "  </thead>\n",
       "  <tbody>\n",
       "    <tr>\n",
       "      <th>0</th>\n",
       "      <td>1433221332117</td>\n",
       "      <td>257597</td>\n",
       "      <td>view</td>\n",
       "      <td>355908</td>\n",
       "      <td>NaN</td>\n",
       "    </tr>\n",
       "    <tr>\n",
       "      <th>1</th>\n",
       "      <td>1433224214164</td>\n",
       "      <td>992329</td>\n",
       "      <td>view</td>\n",
       "      <td>248676</td>\n",
       "      <td>NaN</td>\n",
       "    </tr>\n",
       "    <tr>\n",
       "      <th>2</th>\n",
       "      <td>1433221999827</td>\n",
       "      <td>111016</td>\n",
       "      <td>view</td>\n",
       "      <td>318965</td>\n",
       "      <td>NaN</td>\n",
       "    </tr>\n",
       "    <tr>\n",
       "      <th>3</th>\n",
       "      <td>1433221955914</td>\n",
       "      <td>483717</td>\n",
       "      <td>view</td>\n",
       "      <td>253185</td>\n",
       "      <td>NaN</td>\n",
       "    </tr>\n",
       "    <tr>\n",
       "      <th>4</th>\n",
       "      <td>1433221337106</td>\n",
       "      <td>951259</td>\n",
       "      <td>view</td>\n",
       "      <td>367447</td>\n",
       "      <td>NaN</td>\n",
       "    </tr>\n",
       "  </tbody>\n",
       "</table>\n",
       "</div>"
      ],
      "text/plain": [
       "       timestamp  visitorid event  itemid  transactionid\n",
       "0  1433221332117     257597  view  355908            NaN\n",
       "1  1433224214164     992329  view  248676            NaN\n",
       "2  1433221999827     111016  view  318965            NaN\n",
       "3  1433221955914     483717  view  253185            NaN\n",
       "4  1433221337106     951259  view  367447            NaN"
      ]
     },
     "metadata": {},
     "output_type": "display_data"
    },
    {
     "name": "stdout",
     "output_type": "stream",
     "text": [
      "\n",
      "Missing values in the dataset:\n"
     ]
    },
    {
     "data": {
      "text/plain": [
       "timestamp              0\n",
       "visitorid              0\n",
       "event                  0\n",
       "itemid                 0\n",
       "transactionid    2733644\n",
       "dtype: int64"
      ]
     },
     "metadata": {},
     "output_type": "display_data"
    },
    {
     "name": "stdout",
     "output_type": "stream",
     "text": [
      "\n",
      "Event type distribution:\n"
     ]
    },
    {
     "data": {
      "text/plain": [
       "event\n",
       "view           2664312\n",
       "addtocart        69332\n",
       "transaction      22457\n",
       "Name: count, dtype: int64"
      ]
     },
     "metadata": {},
     "output_type": "display_data"
    },
    {
     "name": "stdout",
     "output_type": "stream",
     "text": [
      "\n",
      "Percentage distribution:\n"
     ]
    },
    {
     "data": {
      "text/plain": [
       "event\n",
       "view           96.669607\n",
       "addtocart       2.515583\n",
       "transaction     0.814810\n",
       "Name: count, dtype: float64"
      ]
     },
     "metadata": {},
     "output_type": "display_data"
    },
    {
     "name": "stdout",
     "output_type": "stream",
     "text": [
      "\n",
      "Timestamp range:\n",
      "Start: 2015-05-03 03:00:04.384000\n",
      "End: 2015-09-18 02:59:47.788000\n"
     ]
    }
   ],
   "source": [
    "# Load and examine the dataset\n",
    "# Read the events data\n",
    "events_df = pd.read_csv('../data/events.csv')\n",
    "\n",
    "# Display basic information about the dataset\n",
    "print(\"Dataset Overview:\")\n",
    "print(\"-\" * 50)\n",
    "print(f\"Number of rows: {events_df.shape[0]:,}\")\n",
    "print(f\"Number of columns: {events_df.shape[1]}\")\n",
    "print(\"\\nColumns in the dataset:\")\n",
    "print(events_df.columns.tolist())\n",
    "\n",
    "# Display first few rows\n",
    "print(\"\\nFirst few rows of the data:\")\n",
    "display(events_df.head())\n",
    "\n",
    "# Check for missing values\n",
    "print(\"\\nMissing values in the dataset:\")\n",
    "display(events_df.isnull().sum())\n",
    "\n",
    "# Get event type distribution\n",
    "print(\"\\nEvent type distribution:\")\n",
    "event_counts = events_df['event'].value_counts()  # Changed from 'event_type' to 'event'\n",
    "display(event_counts)\n",
    "print(\"\\nPercentage distribution:\")\n",
    "display(event_counts / len(events_df) * 100)\n",
    "\n",
    "# Let's also convert the timestamp to datetime for better analysis\n",
    "events_df['timestamp'] = pd.to_datetime(events_df['timestamp'], unit='ms')\n",
    "print(\"\\nTimestamp range:\")\n",
    "print(f\"Start: {events_df['timestamp'].min()}\")\n",
    "print(f\"End: {events_df['timestamp'].max()}\")"
   ]
  },
  {
   "cell_type": "code",
   "execution_count": null,
   "metadata": {},
   "outputs": [],
   "source": []
  }
 ],
 "metadata": {
  "kernelspec": {
   "display_name": "Python 3 (ipykernel)",
   "language": "python",
   "name": "python3"
  },
  "language_info": {
   "codemirror_mode": {
    "name": "ipython",
    "version": 3
   },
   "file_extension": ".py",
   "mimetype": "text/x-python",
   "name": "python",
   "nbconvert_exporter": "python",
   "pygments_lexer": "ipython3",
   "version": "3.11.9"
  }
 },
 "nbformat": 4,
 "nbformat_minor": 4
}
