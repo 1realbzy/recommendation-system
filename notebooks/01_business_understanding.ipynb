{
 "cells": [
  {
   "cell_type": "markdown",
   "metadata": {},
   "source": [
    "Project Overview"
   ]
  },
  {
   "cell_type": "markdown",
   "metadata": {},
   "source": [
    "Business Questions:\n",
    "\n",
    "\n",
    "What are the most common user interaction patterns?\n",
    "\n",
    "How do view events correlate with add-to-cart and purchase events?\n",
    "\n",
    "What is the typical conversion funnel from view to purchase?\n",
    "\n",
    "How do item properties influence user behavior?\n",
    "\n",
    "What defines an \"abnormal\" user in our context?\n",
    "\n",
    "How do seasonal patterns affect user behavior?\n",
    "\n",
    "What are the key features that drive user engagement?"
   ]
  }
 ],
 "metadata": {
  "kernelspec": {
   "display_name": "venv",
   "language": "python",
   "name": "python3"
  },
  "language_info": {
   "name": "python",
   "version": "3.11.9"
  }
 },
 "nbformat": 4,
 "nbformat_minor": 2
}
